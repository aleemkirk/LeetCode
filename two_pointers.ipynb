{
 "cells": [
  {
   "metadata": {},
   "cell_type": "markdown",
   "source": "# Notes",
   "id": "43859213b3c2e7ea"
  },
  {
   "metadata": {},
   "cell_type": "markdown",
   "source": [
    "The Two Pointer algorithm utilizes two pointers that represent an index or a position within a data structure like an array or a liked list.\n",
    "\n",
    "If an array has **predictable dynamics** like being sorted we can use two pointers in a logical way to take advantage of it's predictability and lead to improved time and space complexity then traversing the data structure.\n",
    "\n",
    "There are three main types of two pointer strategies:\n",
    "\n",
    "1. Inward Traversal - pointers start at the opposite end of the data structure and move inward.\n",
    "2. Unidirectional Traversal - pointers start at the same end and move in the same direction.\n",
    "3. Staged Traversal - one pointer traverses the data structure and another keeps track of information.\n",
    "\n",
    "The two-pointer algorithm usually requires a linear data structure like an array or linked list and can be used when the problem can be solved using predictable dynamics or asks for a pair of values or a result that can be generated from a pair of values."
   ],
   "id": "dac22ab50cc55bf7"
  },
  {
   "metadata": {},
   "cell_type": "markdown",
   "source": "## Problems",
   "id": "fa079a9e018221b4"
  },
  {
   "metadata": {},
   "cell_type": "markdown",
   "source": "## Pair-Sum",
   "id": "71e4643b57e8f06e"
  },
  {
   "metadata": {},
   "cell_type": "markdown",
   "source": [
    "Given an array of integers nums and an integer target, return indices of the two numbers such that they add up to target.\n",
    "\n",
    "You may assume that each input would have exactly one solution, and you may not use the same element twice.\n",
    "\n",
    "You can return the answer in any order.\n",
    "\n",
    "\n",
    "\n",
    "Example 1:\n",
    "\n",
    "Input: nums = [2,7,11,15], target = 9\n",
    "Output: [0,1]\n",
    "Explanation: Because nums[0] + nums[1] == 9, we return [0, 1].\n",
    "Example 2:\n",
    "\n",
    "Input: nums = [3,2,4], target = 6\n",
    "Output: [1,2]\n",
    "Example 3:\n",
    "\n",
    "Input: nums = [3,3], target = 6\n",
    "Output: [0,1]\n",
    "\n",
    "\n",
    "Constraints:\n",
    "\n",
    "2 <= nums.length <= 104\n",
    "-109 <= nums[i] <= 109\n",
    "-109 <= target <= 109\n",
    "Only one valid answer exists."
   ],
   "id": "3853755bd40b0bb7"
  },
  {
   "metadata": {},
   "cell_type": "markdown",
   "source": "if the array is sorted then we can have a better implementation that completes in O(n) time.",
   "id": "44d0cc41fc7a52fe"
  },
  {
   "metadata": {
    "ExecuteTime": {
     "end_time": "2025-09-07T17:37:55.557091Z",
     "start_time": "2025-09-07T17:37:55.554228Z"
    }
   },
   "cell_type": "code",
   "source": [
    "from typing import List\n",
    "\n",
    "class Solution:\n",
    "    def twoSum(self, nums: List[int], target: int) -> List[int]:\n",
    "        left = 0\n",
    "        right = left + 1\n",
    "\n",
    "        while left < len(nums):\n",
    "\n",
    "            if right >= len(nums):\n",
    "                return []\n",
    "\n",
    "            if nums[left] + nums[right] == target:\n",
    "                return [left, right]\n",
    "\n",
    "            right = right + 1\n",
    "\n",
    "            if right >= len(nums):\n",
    "                left = left + 1\n",
    "                right = left + 1\n",
    "\n",
    "\n",
    "        return []\n",
    "\n"
   ],
   "id": "66431a1cbda75681",
   "outputs": [],
   "execution_count": 35
  },
  {
   "metadata": {
    "ExecuteTime": {
     "end_time": "2025-09-07T17:37:55.902143Z",
     "start_time": "2025-09-07T17:37:55.898983Z"
    }
   },
   "cell_type": "code",
   "source": [
    "a = Solution()\n",
    "b = a.twoSum(nums = [1, 4, 3, 2, 5, 6, 0], target=49)"
   ],
   "id": "5fbf7334acd5e7ec",
   "outputs": [],
   "execution_count": 36
  },
  {
   "metadata": {
    "ExecuteTime": {
     "end_time": "2025-09-07T17:37:56.357432Z",
     "start_time": "2025-09-07T17:37:56.353928Z"
    }
   },
   "cell_type": "code",
   "source": "print(b)",
   "id": "1bcb66179e5de771",
   "outputs": [
    {
     "name": "stdout",
     "output_type": "stream",
     "text": [
      "[]\n"
     ]
    }
   ],
   "execution_count": 37
  },
  {
   "metadata": {},
   "cell_type": "code",
   "outputs": [],
   "execution_count": null,
   "source": [
    "#Implementation if the List is sorted in ascending order\n",
    "# e.g. [1, 2, 4, 5, 7, 10, 12]\n",
    "from typing import List\n",
    "\n",
    "class Solution:\n",
    "    def twoSumAsc(self, nums: List[int], target: int) -> List[int]:\n",
    "        left = 0\n",
    "        right = len(nums) - 1\n",
    "\n",
    "        while left < right:\n",
    "            result = nums[left] + nums[right]\n",
    "            if result == target:\n",
    "                return [left, right]\n",
    "\n",
    "            if result < target:\n",
    "                left = left + 1\n",
    "\n",
    "            if result > target:\n",
    "                right = right - 1\n",
    "\n",
    "        return []"
   ],
   "id": "f653f85377d5db15"
  },
  {
   "metadata": {
    "ExecuteTime": {
     "end_time": "2025-09-07T17:45:35.005456Z",
     "start_time": "2025-09-07T17:45:35.002412Z"
    }
   },
   "cell_type": "code",
   "source": [
    "a = Solution()\n",
    "print(a.twoSum(nums = [0, 1, 2, 3, 4, 5, 10, 11, 12, 14, 100], target=105))"
   ],
   "id": "eff26e7409b995ee",
   "outputs": [
    {
     "name": "stdout",
     "output_type": "stream",
     "text": [
      "[5, 10]\n"
     ]
    }
   ],
   "execution_count": 42
  },
  {
   "metadata": {},
   "cell_type": "code",
   "outputs": [],
   "execution_count": null,
   "source": "",
   "id": "4c3ce3f61384eefc"
  }
 ],
 "metadata": {
  "kernelspec": {
   "name": "python3",
   "language": "python",
   "display_name": "Python 3 (ipykernel)"
  }
 },
 "nbformat": 4,
 "nbformat_minor": 5
}
